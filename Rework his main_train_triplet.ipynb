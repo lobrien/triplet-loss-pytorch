{
 "cells": [
  {
   "cell_type": "code",
   "execution_count": 1,
   "id": "70695725",
   "metadata": {},
   "outputs": [],
   "source": [
    "from fastai.vision import *\n",
    "from fastai.vision.all import *\n",
    "import torch\n",
    "import torchvision\n",
    "import torch.nn as nn\n",
    "from loss_functions.triplet_loss import TripletLoss\n",
    "from fastai.vision.augment import *\n",
    "from fastai.vision.learner import cnn_learner\n",
    "from fastai.vision.models import resnet34\n",
    "from fastai.metrics import accuracy\n",
    "from fastai.data.core import DataLoaders\n",
    "from scipy import spatial\n",
    "import logging"
   ]
  },
  {
   "cell_type": "code",
   "execution_count": 2,
   "id": "6db7e95b",
   "metadata": {},
   "outputs": [
    {
     "data": {
      "text/plain": [
       "'2.3.2'"
      ]
     },
     "execution_count": 2,
     "metadata": {},
     "output_type": "execute_result"
    }
   ],
   "source": [
    "import fastai\n",
    "fastai.__version__"
   ]
  },
  {
   "cell_type": "code",
   "execution_count": 3,
   "id": "2f72706c",
   "metadata": {},
   "outputs": [
    {
     "data": {
      "text/plain": [
       "True"
      ]
     },
     "execution_count": 3,
     "metadata": {},
     "output_type": "execute_result"
    }
   ],
   "source": [
    "torch.cuda.is_available()"
   ]
  },
  {
   "cell_type": "code",
   "execution_count": 4,
   "id": "aab61b3e",
   "metadata": {},
   "outputs": [],
   "source": [
    "class L2_norm(nn.Module):\n",
    "    def __init__(self):\n",
    "        super(L2_norm, self).__init__()\n",
    "\n",
    "    def forward(self, x):\n",
    "        return F.normalize(x, p=2, dim=-1)"
   ]
  },
  {
   "cell_type": "code",
   "execution_count": 5,
   "id": "a6a0b375",
   "metadata": {},
   "outputs": [],
   "source": [
    "device = 0\n",
    "torch.cuda.set_device(device)"
   ]
  },
  {
   "cell_type": "code",
   "execution_count": 6,
   "id": "e1929602",
   "metadata": {},
   "outputs": [],
   "source": [
    "batch_size = 128\n",
    "size = 28"
   ]
  },
  {
   "cell_type": "code",
   "execution_count": 7,
   "id": "996aab15",
   "metadata": {},
   "outputs": [],
   "source": [
    "tfms = aug_transforms()"
   ]
  },
  {
   "cell_type": "code",
   "execution_count": 8,
   "id": "485fb39b",
   "metadata": {},
   "outputs": [],
   "source": [
    "from fastai.basics import *\n",
    "mnist = untar_data(URLs.MNIST)\n",
    "tfms = aug_transforms(do_flip=False)"
   ]
  },
  {
   "cell_type": "code",
   "execution_count": 9,
   "id": "1dc11dfc",
   "metadata": {},
   "outputs": [],
   "source": [
    "fnames = get_image_files(mnist)\n",
    "def label_func(x): return x.parent.name\n",
    "dls = ImageDataLoaders.from_path_func(mnist, fnames, label_func)"
   ]
  },
  {
   "cell_type": "code",
   "execution_count": 10,
   "id": "67e56f84",
   "metadata": {},
   "outputs": [],
   "source": [
    "# dls.valid_dl.new(shuffle=True)\n",
    "# Original is a fastai data (valid_dl etc.)"
   ]
  },
  {
   "cell_type": "code",
   "execution_count": 12,
   "id": "c7b0afd0",
   "metadata": {},
   "outputs": [],
   "source": [
    "learn = cnn_learner(dls, resnet34, metrics=accuracy, loss_func=TripletLoss(device))"
   ]
  },
  {
   "cell_type": "code",
   "execution_count": 13,
   "id": "b53ba4fd",
   "metadata": {},
   "outputs": [
    {
     "data": {
      "text/plain": [
       "Sequential(\n",
       "  (0): AdaptiveConcatPool2d(\n",
       "    (ap): AdaptiveAvgPool2d(output_size=1)\n",
       "    (mp): AdaptiveMaxPool2d(output_size=1)\n",
       "  )\n",
       "  (1): Flatten(full=False)\n",
       "  (2): BatchNorm1d(1024, eps=1e-05, momentum=0.1, affine=True, track_running_stats=True)\n",
       "  (3): Dropout(p=0.25, inplace=False)\n",
       "  (4): Linear(in_features=1024, out_features=512, bias=False)\n",
       "  (5): ReLU(inplace=True)\n",
       "  (6): BatchNorm1d(512, eps=1e-05, momentum=0.1, affine=True, track_running_stats=True)\n",
       "  (7): Dropout(p=0.5, inplace=False)\n",
       "  (8): Linear(in_features=512, out_features=10, bias=False)\n",
       ")"
      ]
     },
     "execution_count": 13,
     "metadata": {},
     "output_type": "execute_result"
    }
   ],
   "source": [
    "learn.model[1]"
   ]
  },
  {
   "cell_type": "markdown",
   "id": "8f6a1209",
   "metadata": {},
   "source": []
  },
  {
   "cell_type": "code",
   "execution_count": 236,
   "id": "0653e678",
   "metadata": {},
   "outputs": [],
   "source": [
    "# out_features_count = 128\n",
    "out_features_count = 4"
   ]
  },
  {
   "cell_type": "code",
   "execution_count": 237,
   "id": "2428d5fe",
   "metadata": {},
   "outputs": [],
   "source": [
    "layers = learn.model[1]\n",
    "learn.model[1] = nn.Sequential(layers[0], layers[1], layers[2], layers[3], nn.Linear(in_features=1024, out_features=out_features_count, bias=False), L2_norm()).to(device)\n",
    "    "
   ]
  },
  {
   "cell_type": "code",
   "execution_count": 238,
   "id": "df59ac88",
   "metadata": {},
   "outputs": [
    {
     "data": {
      "text/html": [],
      "text/plain": [
       "<IPython.core.display.HTML object>"
      ]
     },
     "metadata": {},
     "output_type": "display_data"
    },
    {
     "data": {
      "text/plain": [
       "SuggestedLRs(lr_min=0.002754228748381138, lr_steep=0.0003311311302240938)"
      ]
     },
     "execution_count": 238,
     "metadata": {},
     "output_type": "execute_result"
    },
    {
     "data": {
      "image/png": "[encoded data removed]",
      "text/plain": [
       "<Figure size 432x288 with 1 Axes>"
      ]
     },
     "metadata": {
      "needs_background": "light"
     },
     "output_type": "display_data"
    }
   ],
   "source": [
    "learn.lr_find()"
   ]
  },
  {
   "cell_type": "code",
   "execution_count": null,
   "id": "c60ffae1",
   "metadata": {},
   "outputs": [
    {
     "data": {
      "text/html": [
       "\n",
       "    <div>\n",
       "        <style>\n",
       "            /* Turns off some styling */\n",
       "            progress {\n",
       "                /* gets rid of default border in Firefox and Opera. */\n",
       "                border: none;\n",
       "                /* Needs to be in here for Safari polyfill so background images work as expected. */\n",
       "                background-size: auto;\n",
       "            }\n",
       "            .progress-bar-interrupted, .progress-bar-interrupted::-webkit-progress-bar {\n",
       "                background: #F44336;\n",
       "            }\n",
       "        </style>\n",
       "      <progress value='75' class='' max='100' style='width:300px; height:20px; vertical-align: middle;'></progress>\n",
       "      75.00% [75/100 36:42<12:14]\n",
       "    </div>\n",
       "    \n",
       "<table border=\"1\" class=\"dataframe\">\n",
       "  <thead>\n",
       "    <tr style=\"text-align: left;\">\n",
       "      <th>epoch</th>\n",
       "      <th>train_loss</th>\n",
       "      <th>valid_loss</th>\n",
       "      <th>accuracy</th>\n",
       "      <th>time</th>\n",
       "    </tr>\n",
       "  </thead>\n",
       "  <tbody>\n",
       "    <tr>\n",
       "      <td>0</td>\n",
       "      <td>0.746077</td>\n",
       "      <td>0.293546</td>\n",
       "      <td>0.000500</td>\n",
       "      <td>00:29</td>\n",
       "    </tr>\n",
       "    <tr>\n",
       "      <td>1</td>\n",
       "      <td>0.514373</td>\n",
       "      <td>0.240476</td>\n",
       "      <td>0.000429</td>\n",
       "      <td>00:29</td>\n",
       "    </tr>\n",
       "    <tr>\n",
       "      <td>2</td>\n",
       "      <td>0.356138</td>\n",
       "      <td>0.159343</td>\n",
       "      <td>0.000643</td>\n",
       "      <td>00:29</td>\n",
       "    </tr>\n",
       "    <tr>\n",
       "      <td>3</td>\n",
       "      <td>0.197945</td>\n",
       "      <td>0.068402</td>\n",
       "      <td>0.000571</td>\n",
       "      <td>00:29</td>\n",
       "    </tr>\n",
       "    <tr>\n",
       "      <td>4</td>\n",
       "      <td>0.100318</td>\n",
       "      <td>0.049595</td>\n",
       "      <td>0.001000</td>\n",
       "      <td>00:29</td>\n",
       "    </tr>\n",
       "    <tr>\n",
       "      <td>5</td>\n",
       "      <td>0.058414</td>\n",
       "      <td>0.043318</td>\n",
       "      <td>0.009286</td>\n",
       "      <td>00:29</td>\n",
       "    </tr>\n",
       "    <tr>\n",
       "      <td>6</td>\n",
       "      <td>0.027147</td>\n",
       "      <td>0.042105</td>\n",
       "      <td>0.025429</td>\n",
       "      <td>00:29</td>\n",
       "    </tr>\n",
       "    <tr>\n",
       "      <td>7</td>\n",
       "      <td>0.017346</td>\n",
       "      <td>0.041576</td>\n",
       "      <td>0.021143</td>\n",
       "      <td>00:29</td>\n",
       "    </tr>\n",
       "    <tr>\n",
       "      <td>8</td>\n",
       "      <td>0.011594</td>\n",
       "      <td>0.040571</td>\n",
       "      <td>0.019857</td>\n",
       "      <td>00:29</td>\n",
       "    </tr>\n",
       "    <tr>\n",
       "      <td>9</td>\n",
       "      <td>0.011474</td>\n",
       "      <td>0.039593</td>\n",
       "      <td>0.004500</td>\n",
       "      <td>00:29</td>\n",
       "    </tr>\n",
       "    <tr>\n",
       "      <td>10</td>\n",
       "      <td>0.012774</td>\n",
       "      <td>0.040920</td>\n",
       "      <td>0.091643</td>\n",
       "      <td>00:29</td>\n",
       "    </tr>\n",
       "    <tr>\n",
       "      <td>11</td>\n",
       "      <td>0.004357</td>\n",
       "      <td>0.041415</td>\n",
       "      <td>0.006429</td>\n",
       "      <td>00:29</td>\n",
       "    </tr>\n",
       "    <tr>\n",
       "      <td>12</td>\n",
       "      <td>0.003191</td>\n",
       "      <td>0.043337</td>\n",
       "      <td>0.001929</td>\n",
       "      <td>00:29</td>\n",
       "    </tr>\n",
       "    <tr>\n",
       "      <td>13</td>\n",
       "      <td>0.003967</td>\n",
       "      <td>0.043158</td>\n",
       "      <td>0.003214</td>\n",
       "      <td>00:29</td>\n",
       "    </tr>\n",
       "    <tr>\n",
       "      <td>14</td>\n",
       "      <td>0.008027</td>\n",
       "      <td>0.043857</td>\n",
       "      <td>0.032429</td>\n",
       "      <td>00:29</td>\n",
       "    </tr>\n",
       "    <tr>\n",
       "      <td>15</td>\n",
       "      <td>0.008526</td>\n",
       "      <td>0.041117</td>\n",
       "      <td>0.010429</td>\n",
       "      <td>00:29</td>\n",
       "    </tr>\n",
       "    <tr>\n",
       "      <td>16</td>\n",
       "      <td>0.003736</td>\n",
       "      <td>0.044863</td>\n",
       "      <td>0.047286</td>\n",
       "      <td>00:29</td>\n",
       "    </tr>\n",
       "    <tr>\n",
       "      <td>17</td>\n",
       "      <td>0.002705</td>\n",
       "      <td>0.042485</td>\n",
       "      <td>0.074000</td>\n",
       "      <td>00:29</td>\n",
       "    </tr>\n",
       "    <tr>\n",
       "      <td>18</td>\n",
       "      <td>0.004632</td>\n",
       "      <td>0.042771</td>\n",
       "      <td>0.060571</td>\n",
       "      <td>00:29</td>\n",
       "    </tr>\n",
       "    <tr>\n",
       "      <td>19</td>\n",
       "      <td>0.000885</td>\n",
       "      <td>0.044977</td>\n",
       "      <td>0.065000</td>\n",
       "      <td>00:29</td>\n",
       "    </tr>\n",
       "    <tr>\n",
       "      <td>20</td>\n",
       "      <td>0.003416</td>\n",
       "      <td>0.046816</td>\n",
       "      <td>0.055357</td>\n",
       "      <td>00:29</td>\n",
       "    </tr>\n",
       "    <tr>\n",
       "      <td>21</td>\n",
       "      <td>0.004715</td>\n",
       "      <td>0.047304</td>\n",
       "      <td>0.058643</td>\n",
       "      <td>00:29</td>\n",
       "    </tr>\n",
       "    <tr>\n",
       "      <td>22</td>\n",
       "      <td>0.002474</td>\n",
       "      <td>0.045564</td>\n",
       "      <td>0.001786</td>\n",
       "      <td>00:29</td>\n",
       "    </tr>\n",
       "    <tr>\n",
       "      <td>23</td>\n",
       "      <td>0.001666</td>\n",
       "      <td>0.044168</td>\n",
       "      <td>0.095643</td>\n",
       "      <td>00:29</td>\n",
       "    </tr>\n",
       "    <tr>\n",
       "      <td>24</td>\n",
       "      <td>0.002599</td>\n",
       "      <td>0.042571</td>\n",
       "      <td>0.090000</td>\n",
       "      <td>00:29</td>\n",
       "    </tr>\n",
       "    <tr>\n",
       "      <td>25</td>\n",
       "      <td>0.006256</td>\n",
       "      <td>0.047416</td>\n",
       "      <td>0.036786</td>\n",
       "      <td>00:29</td>\n",
       "    </tr>\n",
       "    <tr>\n",
       "      <td>26</td>\n",
       "      <td>0.002931</td>\n",
       "      <td>0.041076</td>\n",
       "      <td>0.032214</td>\n",
       "      <td>00:29</td>\n",
       "    </tr>\n",
       "    <tr>\n",
       "      <td>27</td>\n",
       "      <td>0.000544</td>\n",
       "      <td>0.043719</td>\n",
       "      <td>0.044714</td>\n",
       "      <td>00:29</td>\n",
       "    </tr>\n",
       "    <tr>\n",
       "      <td>28</td>\n",
       "      <td>0.001141</td>\n",
       "      <td>0.040845</td>\n",
       "      <td>0.004286</td>\n",
       "      <td>00:29</td>\n",
       "    </tr>\n",
       "    <tr>\n",
       "      <td>29</td>\n",
       "      <td>0.002677</td>\n",
       "      <td>0.040572</td>\n",
       "      <td>0.013357</td>\n",
       "      <td>00:29</td>\n",
       "    </tr>\n",
       "    <tr>\n",
       "      <td>30</td>\n",
       "      <td>0.003592</td>\n",
       "      <td>0.043877</td>\n",
       "      <td>0.054857</td>\n",
       "      <td>00:29</td>\n",
       "    </tr>\n",
       "    <tr>\n",
       "      <td>31</td>\n",
       "      <td>0.002998</td>\n",
       "      <td>0.047281</td>\n",
       "      <td>0.088000</td>\n",
       "      <td>00:29</td>\n",
       "    </tr>\n",
       "    <tr>\n",
       "      <td>32</td>\n",
       "      <td>0.005763</td>\n",
       "      <td>0.045299</td>\n",
       "      <td>0.053786</td>\n",
       "      <td>00:29</td>\n",
       "    </tr>\n",
       "    <tr>\n",
       "      <td>33</td>\n",
       "      <td>0.001934</td>\n",
       "      <td>0.044314</td>\n",
       "      <td>0.031214</td>\n",
       "      <td>00:29</td>\n",
       "    </tr>\n",
       "    <tr>\n",
       "      <td>34</td>\n",
       "      <td>0.000769</td>\n",
       "      <td>0.040411</td>\n",
       "      <td>0.044214</td>\n",
       "      <td>00:29</td>\n",
       "    </tr>\n",
       "    <tr>\n",
       "      <td>35</td>\n",
       "      <td>0.000762</td>\n",
       "      <td>0.041182</td>\n",
       "      <td>0.082500</td>\n",
       "      <td>00:29</td>\n",
       "    </tr>\n",
       "    <tr>\n",
       "      <td>36</td>\n",
       "      <td>0.000700</td>\n",
       "      <td>0.039833</td>\n",
       "      <td>0.088286</td>\n",
       "      <td>00:29</td>\n",
       "    </tr>\n",
       "    <tr>\n",
       "      <td>37</td>\n",
       "      <td>0.003068</td>\n",
       "      <td>0.043909</td>\n",
       "      <td>0.092214</td>\n",
       "      <td>00:29</td>\n",
       "    </tr>\n",
       "    <tr>\n",
       "      <td>38</td>\n",
       "      <td>0.003696</td>\n",
       "      <td>0.042993</td>\n",
       "      <td>0.064571</td>\n",
       "      <td>00:29</td>\n",
       "    </tr>\n",
       "    <tr>\n",
       "      <td>39</td>\n",
       "      <td>0.003068</td>\n",
       "      <td>0.045187</td>\n",
       "      <td>0.099357</td>\n",
       "      <td>00:29</td>\n",
       "    </tr>\n",
       "    <tr>\n",
       "      <td>40</td>\n",
       "      <td>0.003134</td>\n",
       "      <td>0.043826</td>\n",
       "      <td>0.033429</td>\n",
       "      <td>00:29</td>\n",
       "    </tr>\n",
       "    <tr>\n",
       "      <td>41</td>\n",
       "      <td>0.001257</td>\n",
       "      <td>0.039775</td>\n",
       "      <td>0.013357</td>\n",
       "      <td>00:29</td>\n",
       "    </tr>\n",
       "    <tr>\n",
       "      <td>42</td>\n",
       "      <td>0.002227</td>\n",
       "      <td>0.042448</td>\n",
       "      <td>0.080000</td>\n",
       "      <td>00:29</td>\n",
       "    </tr>\n",
       "    <tr>\n",
       "      <td>43</td>\n",
       "      <td>0.001579</td>\n",
       "      <td>0.041856</td>\n",
       "      <td>0.076500</td>\n",
       "      <td>00:29</td>\n",
       "    </tr>\n",
       "    <tr>\n",
       "      <td>44</td>\n",
       "      <td>0.001312</td>\n",
       "      <td>0.042966</td>\n",
       "      <td>0.004286</td>\n",
       "      <td>00:29</td>\n",
       "    </tr>\n",
       "    <tr>\n",
       "      <td>45</td>\n",
       "      <td>0.000182</td>\n",
       "      <td>0.043972</td>\n",
       "      <td>0.096571</td>\n",
       "      <td>00:29</td>\n",
       "    </tr>\n",
       "    <tr>\n",
       "      <td>46</td>\n",
       "      <td>0.000923</td>\n",
       "      <td>0.043599</td>\n",
       "      <td>0.069643</td>\n",
       "      <td>00:29</td>\n",
       "    </tr>\n",
       "    <tr>\n",
       "      <td>47</td>\n",
       "      <td>0.001420</td>\n",
       "      <td>0.041478</td>\n",
       "      <td>0.024000</td>\n",
       "      <td>00:29</td>\n",
       "    </tr>\n",
       "    <tr>\n",
       "      <td>48</td>\n",
       "      <td>0.001954</td>\n",
       "      <td>0.043205</td>\n",
       "      <td>0.033571</td>\n",
       "      <td>00:29</td>\n",
       "    </tr>\n",
       "    <tr>\n",
       "      <td>49</td>\n",
       "      <td>0.000337</td>\n",
       "      <td>0.044836</td>\n",
       "      <td>0.045857</td>\n",
       "      <td>00:29</td>\n",
       "    </tr>\n",
       "    <tr>\n",
       "      <td>50</td>\n",
       "      <td>0.001372</td>\n",
       "      <td>0.045023</td>\n",
       "      <td>0.035357</td>\n",
       "      <td>00:29</td>\n",
       "    </tr>\n",
       "    <tr>\n",
       "      <td>51</td>\n",
       "      <td>0.002759</td>\n",
       "      <td>0.045084</td>\n",
       "      <td>0.003571</td>\n",
       "      <td>00:29</td>\n",
       "    </tr>\n",
       "    <tr>\n",
       "      <td>52</td>\n",
       "      <td>0.001263</td>\n",
       "      <td>0.041150</td>\n",
       "      <td>0.005143</td>\n",
       "      <td>00:29</td>\n",
       "    </tr>\n",
       "    <tr>\n",
       "      <td>53</td>\n",
       "      <td>0.000542</td>\n",
       "      <td>0.040323</td>\n",
       "      <td>0.040786</td>\n",
       "      <td>00:29</td>\n",
       "    </tr>\n",
       "    <tr>\n",
       "      <td>54</td>\n",
       "      <td>0.001480</td>\n",
       "      <td>0.041339</td>\n",
       "      <td>0.090429</td>\n",
       "      <td>00:29</td>\n",
       "    </tr>\n",
       "    <tr>\n",
       "      <td>55</td>\n",
       "      <td>0.001392</td>\n",
       "      <td>0.041282</td>\n",
       "      <td>0.016429</td>\n",
       "      <td>00:29</td>\n",
       "    </tr>\n",
       "    <tr>\n",
       "      <td>56</td>\n",
       "      <td>0.001532</td>\n",
       "      <td>0.038775</td>\n",
       "      <td>0.003071</td>\n",
       "      <td>00:29</td>\n",
       "    </tr>\n",
       "    <tr>\n",
       "      <td>57</td>\n",
       "      <td>0.003927</td>\n",
       "      <td>0.042382</td>\n",
       "      <td>0.036857</td>\n",
       "      <td>00:29</td>\n",
       "    </tr>\n",
       "    <tr>\n",
       "      <td>58</td>\n",
       "      <td>0.003502</td>\n",
       "      <td>0.045594</td>\n",
       "      <td>0.002429</td>\n",
       "      <td>00:29</td>\n",
       "    </tr>\n",
       "    <tr>\n",
       "      <td>59</td>\n",
       "      <td>0.001106</td>\n",
       "      <td>0.043538</td>\n",
       "      <td>0.023929</td>\n",
       "      <td>00:29</td>\n",
       "    </tr>\n",
       "    <tr>\n",
       "      <td>60</td>\n",
       "      <td>0.001951</td>\n",
       "      <td>0.042865</td>\n",
       "      <td>0.014500</td>\n",
       "      <td>00:29</td>\n",
       "    </tr>\n",
       "    <tr>\n",
       "      <td>61</td>\n",
       "      <td>0.001540</td>\n",
       "      <td>0.042655</td>\n",
       "      <td>0.005357</td>\n",
       "      <td>00:29</td>\n",
       "    </tr>\n",
       "    <tr>\n",
       "      <td>62</td>\n",
       "      <td>0.000735</td>\n",
       "      <td>0.042044</td>\n",
       "      <td>0.009000</td>\n",
       "      <td>00:29</td>\n",
       "    </tr>\n",
       "    <tr>\n",
       "      <td>63</td>\n",
       "      <td>0.000870</td>\n",
       "      <td>0.041507</td>\n",
       "      <td>0.005071</td>\n",
       "      <td>00:29</td>\n",
       "    </tr>\n",
       "    <tr>\n",
       "      <td>64</td>\n",
       "      <td>0.002801</td>\n",
       "      <td>0.040900</td>\n",
       "      <td>0.003929</td>\n",
       "      <td>00:29</td>\n",
       "    </tr>\n",
       "    <tr>\n",
       "      <td>65</td>\n",
       "      <td>0.000218</td>\n",
       "      <td>0.039667</td>\n",
       "      <td>0.008429</td>\n",
       "      <td>00:29</td>\n",
       "    </tr>\n",
       "    <tr>\n",
       "      <td>66</td>\n",
       "      <td>0.000403</td>\n",
       "      <td>0.041262</td>\n",
       "      <td>0.015571</td>\n",
       "      <td>00:29</td>\n",
       "    </tr>\n",
       "    <tr>\n",
       "      <td>67</td>\n",
       "      <td>0.001690</td>\n",
       "      <td>0.041699</td>\n",
       "      <td>0.006429</td>\n",
       "      <td>00:29</td>\n",
       "    </tr>\n",
       "    <tr>\n",
       "      <td>68</td>\n",
       "      <td>0.001220</td>\n",
       "      <td>0.043210</td>\n",
       "      <td>0.002429</td>\n",
       "      <td>00:29</td>\n",
       "    </tr>\n",
       "    <tr>\n",
       "      <td>69</td>\n",
       "      <td>0.001490</td>\n",
       "      <td>0.042154</td>\n",
       "      <td>0.015286</td>\n",
       "      <td>00:29</td>\n",
       "    </tr>\n",
       "    <tr>\n",
       "      <td>70</td>\n",
       "      <td>0.000567</td>\n",
       "      <td>0.042133</td>\n",
       "      <td>0.011500</td>\n",
       "      <td>00:29</td>\n",
       "    </tr>\n",
       "    <tr>\n",
       "      <td>71</td>\n",
       "      <td>0.000367</td>\n",
       "      <td>0.043037</td>\n",
       "      <td>0.049000</td>\n",
       "      <td>00:29</td>\n",
       "    </tr>\n",
       "    <tr>\n",
       "      <td>72</td>\n",
       "      <td>0.001144</td>\n",
       "      <td>0.042559</td>\n",
       "      <td>0.017857</td>\n",
       "      <td>00:29</td>\n",
       "    </tr>\n",
       "    <tr>\n",
       "      <td>73</td>\n",
       "      <td>0.003150</td>\n",
       "      <td>0.042941</td>\n",
       "      <td>0.006500</td>\n",
       "      <td>00:29</td>\n",
       "    </tr>\n",
       "    <tr>\n",
       "      <td>74</td>\n",
       "      <td>0.000874</td>\n",
       "      <td>0.042403</td>\n",
       "      <td>0.038000</td>\n",
       "      <td>00:29</td>\n",
       "    </tr>\n",
       "  </tbody>\n",
       "</table><p>\n",
       "\n",
       "    <div>\n",
       "        <style>\n",
       "            /* Turns off some styling */\n",
       "            progress {\n",
       "                /* gets rid of default border in Firefox and Opera. */\n",
       "                border: none;\n",
       "                /* Needs to be in here for Safari polyfill so background images work as expected. */\n",
       "                background-size: auto;\n",
       "            }\n",
       "            .progress-bar-interrupted, .progress-bar-interrupted::-webkit-progress-bar {\n",
       "                background: #F44336;\n",
       "            }\n",
       "        </style>\n",
       "      <progress value='120' class='' max='875' style='width:300px; height:20px; vertical-align: middle;'></progress>\n",
       "      13.71% [120/875 00:04<00:25 0.0005]\n",
       "    </div>\n",
       "    "
      ],
      "text/plain": [
       "<IPython.core.display.HTML object>"
      ]
     },
     "metadata": {},
     "output_type": "display_data"
    }
   ],
   "source": [
    "lr = 0.0002\n",
    "epochs = 100\n",
    "learn.fit_one_cycle(epochs, slice(lr))"
   ]
  },
  {
   "cell_type": "code",
   "execution_count": null,
   "id": "0e3d7bc3",
   "metadata": {},
   "outputs": [],
   "source": [
    "model_name = f'{epochs}_epochs_{out_features_count}_features'"
   ]
  },
  {
   "cell_type": "code",
   "execution_count": null,
   "id": "6aa71b79",
   "metadata": {},
   "outputs": [],
   "source": [
    "learn.save(model_name)"
   ]
  },
  {
   "cell_type": "raw",
   "id": "cff177dd",
   "metadata": {},
   "source": [
    "learn.load('10epochs')\n",
    "learn.unfreeze()"
   ]
  },
  {
   "cell_type": "raw",
   "id": "ec0c9428",
   "metadata": {},
   "source": [
    "learn.lr_find()"
   ]
  },
  {
   "cell_type": "raw",
   "id": "91749e0e",
   "metadata": {},
   "source": [
    "learn.fit_one_cycle(10,slice(.005))"
   ]
  },
  {
   "cell_type": "raw",
   "id": "d879297e",
   "metadata": {},
   "source": [
    "learn.lr_find(num_it=1000, stop_div=False)\n"
   ]
  },
  {
   "cell_type": "raw",
   "id": "bca9814b",
   "metadata": {},
   "source": [
    "learn.fit_one_cycle(30,slice(.01))"
   ]
  },
  {
   "cell_type": "raw",
   "id": "7d453337",
   "metadata": {},
   "source": [
    "learn.lr_find(stop_div=False)"
   ]
  },
  {
   "cell_type": "raw",
   "id": "245377df",
   "metadata": {},
   "source": [
    "learn.save('30epochs')"
   ]
  },
  {
   "cell_type": "markdown",
   "id": "0a547b24",
   "metadata": {},
   "source": [
    "## Now, how to inference? \n",
    "\n",
    "Move this section down below fingerprinting. "
   ]
  },
  {
   "cell_type": "code",
   "execution_count": null,
   "id": "9c62e9cd",
   "metadata": {},
   "outputs": [],
   "source": [
    "img = PILImage.create('Star1.png')"
   ]
  },
  {
   "cell_type": "code",
   "execution_count": null,
   "id": "fe76a6b6",
   "metadata": {},
   "outputs": [],
   "source": [
    "result = learn.predict(img)\n",
    "fingerprint = result[1].numpy()\n",
    "print(fingerprint)"
   ]
  },
  {
   "cell_type": "code",
   "execution_count": null,
   "id": "661d50d1",
   "metadata": {},
   "outputs": [],
   "source": [
    "len(fingerprint)"
   ]
  },
  {
   "cell_type": "raw",
   "id": "3f178b65",
   "metadata": {},
   "source": [
    "OK, so ideally: for each known class, I'd find the image within that class that is at the center, and for a new image, try to find the minimum distance to that. Or, perhaps, find the center image and then find the two images that are at the margin between that and each other class (in other words, try to find the border between two classes)"
   ]
  },
  {
   "cell_type": "markdown",
   "id": "4e92a5bb",
   "metadata": {},
   "source": [
    "## Train a same/not-same classifier\n",
    "\n",
    "Based on https://stackoverflow.com/questions/45255030/how-to-determine-accuracy-with-triplet-loss-in-a-convolutional-neural-network\n",
    "\n",
    "Delete this section"
   ]
  },
  {
   "cell_type": "code",
   "execution_count": null,
   "id": "d118686a",
   "metadata": {},
   "outputs": [],
   "source": [
    "class ClassifierNet(nn.Module):\n",
    "    def __init__(self, model):\n",
    "        super(ClassifierNet, self).__init__()\n",
    "        self.embeddingLayer = model\n",
    "        self.classifierLayer = nn.Linear(128,62)\n",
    "        self.dropout = nn.Dropout(0.5)\n",
    "\n",
    "    def forward(self, x):\n",
    "        x = self.dropout(self.embeddingLayer(x))\n",
    "        x = self.classifierLayer(x)\n",
    "        return F.log_softmax(x, dim=1)\n",
    "    \n",
    "yesNoNet = ClassifierNet(learn.model)"
   ]
  },
  {
   "cell_type": "markdown",
   "id": "de396022",
   "metadata": {},
   "source": [
    "TODO: Train this on yes / no pairs"
   ]
  },
  {
   "cell_type": "markdown",
   "id": "d7f9cdbf",
   "metadata": {},
   "source": [
    "## Nearest k-neighbors\n",
    "\n",
    "based on https://github.com/sanku-lib/image_triplet_loss/blob/master/Prediction.ipynb"
   ]
  },
  {
   "cell_type": "code",
   "execution_count": null,
   "id": "4117ef00",
   "metadata": {},
   "outputs": [],
   "source": [
    "fnames = list(Path(mnist/'testing').rglob('*.png'))\n",
    "len(fnames)"
   ]
  },
  {
   "cell_type": "code",
   "execution_count": null,
   "id": "afdbf8b5",
   "metadata": {},
   "outputs": [],
   "source": [
    "fnames[0]"
   ]
  },
  {
   "cell_type": "code",
   "execution_count": null,
   "id": "45f8fb50",
   "metadata": {
    "tags": [
     "hide-output"
    ]
   },
   "outputs": [],
   "source": [
    "# Outputs a blank line for each for some reason. Use %%capture --no-std-err when calling\n",
    "def fingerprint_all(fnames):\n",
    "    fingerprints = {}\n",
    "    for f in fnames:\n",
    "        category = label_func(f)\n",
    "        img = PILImage.create(f)\n",
    "        result = learn.predict(img)\n",
    "        fingerprint = result[1].numpy()\n",
    "        fingerprints[(category,f)] = fingerprint\n",
    "    return fingerprints\n"
   ]
  },
  {
   "cell_type": "code",
   "execution_count": null,
   "id": "1f462a50",
   "metadata": {},
   "outputs": [],
   "source": [
    "%%capture\n",
    "# Suppress \n",
    "# Takes about 3 minutes on a 2080\n",
    "fingerprint_db = fingerprint_all(Path(mnist/'testing').rglob('*.png'))"
   ]
  },
  {
   "cell_type": "code",
   "execution_count": null,
   "id": "2390d32b",
   "metadata": {},
   "outputs": [],
   "source": [
    "# Find k nearest neighbour using cosine similarity\n",
    "def find_k_nn(vectors,vec,k):\n",
    "    dist_arr = np.matmul(vectors, vec.T)\n",
    "    return np.argsort(-dist_arr.flatten())[:k]\n"
   ]
  },
  {
   "cell_type": "code",
   "execution_count": null,
   "id": "76eb5740",
   "metadata": {},
   "outputs": [],
   "source": [
    "fps = list(fingerprint_db.values())\n",
    "len(fps[0])"
   ]
  },
  {
   "cell_type": "code",
   "execution_count": null,
   "id": "cc16c697",
   "metadata": {},
   "outputs": [],
   "source": [
    "find_k_nn(fps, fingerprint, 10)"
   ]
  },
  {
   "cell_type": "code",
   "execution_count": null,
   "id": "a3f64fe4",
   "metadata": {
    "scrolled": true
   },
   "outputs": [],
   "source": [
    "list(fingerprint_db.items())[5823]"
   ]
  },
  {
   "cell_type": "code",
   "execution_count": null,
   "id": "09966276",
   "metadata": {
    "scrolled": true
   },
   "outputs": [],
   "source": [
    "\n",
    "\n",
    "def best_match_mnist(fingerprint_db, fingerprint, k):\n",
    "    fps = list(fingerprint_db.values())\n",
    "    keys = list(fingerprint_db.keys())\n",
    "    match_indices = find_k_nn(fps,fingerprint,k)\n",
    "    for i in match_indices:\n",
    "        match_fp = fps[i]\n",
    "        distance = spatial.distance.cosine(match_fp, fingerprint)\n",
    "        yield (keys[i], distance)\n",
    "        \n",
    "list(best_match_mnist(fingerprint_db, fingerprint, 10))"
   ]
  },
  {
   "cell_type": "code",
   "execution_count": null,
   "id": "c31c0e03",
   "metadata": {
    "scrolled": true
   },
   "outputs": [],
   "source": [
    "def fingerprint_file(path) :\n",
    "    img = PILImage.create(path)\n",
    "    result = learn.predict(img)\n",
    "    fingerprint = result[1].numpy()\n",
    "    return fingerprint\n",
    "\n",
    "fp = fingerprint_file('4.png')\n",
    "list(best_match_mnist(fingerprint_db, fp, 5))"
   ]
  },
  {
   "cell_type": "code",
   "execution_count": null,
   "id": "c2342ec7",
   "metadata": {},
   "outputs": [],
   "source": [
    "fp4 = fingerprint_file('4.png')"
   ]
  },
  {
   "cell_type": "code",
   "execution_count": null,
   "id": "427cffa8",
   "metadata": {},
   "outputs": [],
   "source": [
    "list(best_match_mnist(fingerprint_db, fp4, 5))"
   ]
  },
  {
   "cell_type": "code",
   "execution_count": null,
   "id": "4d44ee49",
   "metadata": {},
   "outputs": [],
   "source": [
    "fps1 = fingerprint_file('Star1.png')\n",
    "fps2 = fingerprint_file('Star2.png')\n",
    "list(best_match_mnist(fingerprint_db, fps1, 1))"
   ]
  },
  {
   "cell_type": "code",
   "execution_count": null,
   "id": "2e01e6dc",
   "metadata": {},
   "outputs": [],
   "source": [
    "spatial.distance.cosine(fps2, fps1)"
   ]
  },
  {
   "cell_type": "code",
   "execution_count": null,
   "id": "8f4b9ee3",
   "metadata": {},
   "outputs": [],
   "source": [
    "list(best_match_mnist(fingerprint_db, fps2, 1))"
   ]
  },
  {
   "cell_type": "code",
   "execution_count": null,
   "id": "3f76e6c0",
   "metadata": {},
   "outputs": [],
   "source": [
    "fingerprint_db[('*','/Star1.png')] = fps1"
   ]
  },
  {
   "cell_type": "code",
   "execution_count": null,
   "id": "ebc200ba",
   "metadata": {},
   "outputs": [],
   "source": [
    "(list(m for m in best_match_mnist(fingerprint_db, fps2, 10)))"
   ]
  },
  {
   "cell_type": "code",
   "execution_count": null,
   "id": "2b9407f2",
   "metadata": {
    "scrolled": false
   },
   "outputs": [],
   "source": [
    "(list(m for m in best_match_mnist(fingerprint_db, fps2, 10000) if m[0][0] != \"8\"))[0:10]"
   ]
  },
  {
   "cell_type": "code",
   "execution_count": null,
   "id": "ab962be2",
   "metadata": {},
   "outputs": [],
   "source": [
    "query_img = PILImage.create(\"Star2.png\")\n",
    "query_img"
   ]
  },
  {
   "cell_type": "code",
   "execution_count": null,
   "id": "b1b085dc",
   "metadata": {},
   "outputs": [],
   "source": [
    "import matplotlib.pyplot as plt\n",
    "from mpl_toolkits.axes_grid1 import ImageGrid"
   ]
  },
  {
   "cell_type": "code",
   "execution_count": null,
   "id": "699dcfd8",
   "metadata": {},
   "outputs": [],
   "source": [
    "%matplotlib inline"
   ]
  },
  {
   "cell_type": "raw",
   "id": "883a839c",
   "metadata": {},
   "source": [
    "fig = plt.figure(figsize=(4., 4.))\n",
    "grid = ImageGrid(fig, 111,  # similar to subplot(111)\n",
    "                 nrows_ncols=(3, 3),  # creates 2x2 grid of axes\n",
    "                 axes_pad=0.1,  # pad between axes in inch.\n",
    "                 )\n",
    "\n",
    "imgs = (PILImage.create(m[0][1]) for m in best_match_mnist(fingerprint_db, fps2, 9))\n",
    "\n",
    "for ax, im in zip(grid, imgs):\n",
    "    # Iterating over the grid returns the Axes.\n",
    "    ax.imshow(im)\n",
    "\n",
    "plt.show()"
   ]
  },
  {
   "cell_type": "code",
   "execution_count": null,
   "id": "2078932a",
   "metadata": {},
   "outputs": [],
   "source": [
    "PILImage.create(\"Star1.png\")"
   ]
  },
  {
   "cell_type": "markdown",
   "id": "b7878c7d",
   "metadata": {},
   "source": [
    "I think this net is overfitted to numbers. But does that make sense? Shouldn't just... features to features create the appropriate cosine distance between star and star?\n",
    "\n",
    "Or, maybe it's that the best diagnostic is: \"OK, return the top 3 returns in the top 3 categories.\" So you'd get \"8\"s and their <0.04 distance, and you'd get FPS1 at 0.04, and then you'd get the top (whatever) "
   ]
  },
  {
   "cell_type": "code",
   "execution_count": null,
   "id": "5eee8960",
   "metadata": {},
   "outputs": [],
   "source": [
    "from sklearn.manifold import TSNE\n",
    "from matplotlib import cm\n"
   ]
  },
  {
   "cell_type": "code",
   "execution_count": null,
   "id": "505af5ed",
   "metadata": {},
   "outputs": [],
   "source": [
    "fps = np.array(list(fingerprint_db.values()))\n",
    "fps.shape"
   ]
  },
  {
   "cell_type": "code",
   "execution_count": null,
   "id": "d90157da",
   "metadata": {},
   "outputs": [],
   "source": [
    "def train_and_fingerprint(epochs, learning_rate, files_to_fingerprint) :\n",
    "    learn.fit_one_cycle(epochs,slice(learning_rate))\n",
    "    fingerprints = fingerprint_all(files_to_fingerprint)\n",
    "    \n",
    "    return (learn, fingerprints)"
   ]
  },
  {
   "cell_type": "code",
   "execution_count": null,
   "id": "5a7928da",
   "metadata": {},
   "outputs": [],
   "source": [
    "import matplotlib.patches as patches\n",
    "\n",
    "def visualize(fingerprints_db, fingerprints_to_highlight = [], indices_to_highlight = []):\n",
    "    l = list(fingerprint_db.values())\n",
    "    fps = np.array(l + fingerprints_to_highlight)\n",
    "    tsne = TSNE(2, random_state = 42, verbose = 1)    \n",
    "    tsne_proj = tsne.fit_transform(fps)\n",
    "    \n",
    "    cmap = cm.get_cmap('tab20')\n",
    "    fig, ax = plt.subplots(figsize=(8,8))\n",
    "    num_categories = 11\n",
    "\n",
    "    for i in range(num_categories):\n",
    "        matching_indices = [key for key, (val,_) in enumerate(fingerprint_db.keys()) if val == str(i)]\n",
    "        plt.scatter(tsne_proj[matching_indices,0], tsne_proj[matching_indices,1], c = np.array(cmap(i)).reshape(1,4), label = i)\n",
    "    ax.legend(fontsize='large', markerscale=2)\n",
    "    \n",
    "    # Highlight\n",
    "    plt.scatter(tsne_proj[indices_to_highlight,0], tsne_proj[indices_to_highlight,1], marker = '+', c = 'k', label = 'highlight') \n",
    "    ixs_to_highlight = range(len(fps) - len(fingerprints_to_highlight),len(fps))\n",
    "    (xs, ys) = (tsne_proj[ixs_to_highlight,0], tsne_proj[ixs_to_highlight,1])\n",
    "    plt.scatter(xs, ys, marker = '+', c = 'k', label = 'highlight') \n",
    "    (min_x, min_y, max_x, max_y) = (min(xs), min(ys), max(xs), max(ys))\n",
    "    min_x = min_x - 2\n",
    "    min_y = min_y - 2\n",
    "    width = max_x - min_x + 2\n",
    "    height = max_y - min_y + 2\n",
    "    rect = patches.Rectangle((min_x, min_y), width, height, linewidth=1, edgecolor='k', facecolor='none')\n",
    "    ax.add_patch(rect)\n",
    "    \n",
    "    plt.savefig(model_name)\n",
    "    plt.show()\n",
    "    return tsne"
   ]
  },
  {
   "cell_type": "code",
   "execution_count": null,
   "id": "c5dc96ad",
   "metadata": {},
   "outputs": [],
   "source": [
    "%%capture \n",
    "# Use %%capture to suppress fingerprint_all output, which produces a blank line for each file for some reason\n",
    "(_, fps) = train_and_fingerprint(0, .0005, fnames)"
   ]
  },
  {
   "cell_type": "code",
   "execution_count": null,
   "id": "7d031282",
   "metadata": {},
   "outputs": [],
   "source": [
    "visualize(fps, fingerprints_to_highlight = [fps1, fps2])"
   ]
  },
  {
   "cell_type": "code",
   "execution_count": null,
   "id": "2a137789",
   "metadata": {},
   "outputs": [],
   "source": []
  }
 ],
 "metadata": {
  "kernelspec": {
   "display_name": "Python 3",
   "language": "python",
   "name": "python3"
  },
  "language_info": {
   "codemirror_mode": {
    "name": "ipython",
    "version": 3
   },
   "file_extension": ".py",
   "mimetype": "text/x-python",
   "name": "python",
   "nbconvert_exporter": "python",
   "pygments_lexer": "ipython3",
   "version": "3.7.10"
  }
 },
 "nbformat": 4,
 "nbformat_minor": 5
}
